{
  "nbformat": 4,
  "nbformat_minor": 0,
  "metadata": {
    "colab": {
      "provenance": [],
      "authorship_tag": "ABX9TyM40a9AheRSnG553fUZ7LEs",
      "include_colab_link": true
    },
    "kernelspec": {
      "name": "python3",
      "display_name": "Python 3"
    },
    "language_info": {
      "name": "python"
    }
  },
  "cells": [
    {
      "cell_type": "markdown",
      "metadata": {
        "id": "view-in-github",
        "colab_type": "text"
      },
      "source": [
        "<a href=\"https://colab.research.google.com/github/devisree6330/dc_minip/blob/pakshal-nagda_da24b045/AI_DC_Mini_Project.ipynb\" target=\"_parent\"><img src=\"https://colab.research.google.com/assets/colab-badge.svg\" alt=\"Open In Colab\"/></a>"
      ]
    },
    {
      "cell_type": "code",
      "execution_count": null,
      "metadata": {
        "colab": {
          "base_uri": "https://localhost:8080/",
          "height": 36
        },
        "id": "bu-PxR_YjBBK",
        "outputId": "e08cc2d9-d62e-403b-f969-dba383582750"
      },
      "outputs": [
        {
          "output_type": "execute_result",
          "data": {
            "text/plain": [
              "'cpu'"
            ],
            "application/vnd.google.colaboratory.intrinsic+json": {
              "type": "string"
            }
          },
          "metadata": {},
          "execution_count": 25
        }
      ],
      "source": [
        "import torch\n",
        "from torch import nn, optim\n",
        "import torch.nn.functional as F\n",
        "import torchvision\n",
        "from torchvision import transforms\n",
        "\n",
        "import numpy as np\n",
        "import matplotlib.pyplot as plt\n",
        "\n",
        "device = 'cuda' if torch.cuda.is_available() else 'cpu'\n",
        "device"
      ]
    },
    {
      "cell_type": "code",
      "source": [
        "transform = transforms.Compose([transforms.ToTensor(), transforms.Normalize((0.5, 0.5, 0.5), (0.5, 0.5, 0.5))])\n",
        "batch_size = 4\n",
        "trainset = torchvision.datasets.CIFAR10(root='./data', train=True, download=True, transform=transform)\n",
        "trainloader = torch.utils.data.DataLoader(trainset, batch_size=batch_size, shuffle=True, num_workers=2)\n",
        "testset = torchvision.datasets.CIFAR10(root='./data', train=False, download=True, transform=transform)\n",
        "testloader = torch.utils.data.DataLoader(testset, batch_size=batch_size, shuffle=False, num_workers=2)\n",
        "classes = ('plane', 'car', 'bird', 'cat', 'deer', 'dog', 'frog', 'horse', 'ship', 'truck')"
      ],
      "metadata": {
        "colab": {
          "base_uri": "https://localhost:8080/"
        },
        "id": "t9GFvQJtkkuo",
        "outputId": "eedc75cb-3d9f-46a7-cebf-13f282ab332c"
      },
      "execution_count": null,
      "outputs": [
        {
          "output_type": "stream",
          "name": "stdout",
          "text": [
            "Files already downloaded and verified\n",
            "Files already downloaded and verified\n"
          ]
        }
      ]
    },
    {
      "cell_type": "code",
      "source": [
        "#Visualization\n",
        "\n",
        "def imshow(img):\n",
        "    img = img / 2 + 0.5\n",
        "    npimg = img.numpy()\n",
        "    plt.imshow(np.transpose(npimg, (1, 2, 0)))\n",
        "    plt.show()\n",
        "\n",
        "dataiter = iter(trainloader)\n",
        "images, labels = next(dataiter)\n",
        "imshow(torchvision.utils.make_grid(images))\n",
        "print(' '.join(f'{classes[labels[j]]:5s}' for j in range(batch_size)))"
      ],
      "metadata": {
        "colab": {
          "base_uri": "https://localhost:8080/",
          "height": 211
        },
        "id": "FnLORW2XkWvm",
        "outputId": "dc9b2bdf-7dd0-47bf-c67b-831fd42f9844"
      },
      "execution_count": null,
      "outputs": [
        {
          "output_type": "display_data",
          "data": {
            "text/plain": [
              "<Figure size 640x480 with 1 Axes>"
            ],
            "image/png": "[encoded data removed]"
          },
          "metadata": {}
        },
        {
          "output_type": "stream",
          "name": "stdout",
          "text": [
            "cat   ship  truck bird \n"
          ]
        }
      ]
    },
    {
      "cell_type": "code",
      "source": [
        "class CIFAR10Net(nn.Module):\n",
        "  def __init__(self):\n",
        "\n",
        "    super().__init__()\n",
        "    self.conv1 = nn.Conv2d(3, 6, 5)\n",
        "    self.pool = nn.MaxPool2d(2, 2)\n",
        "    self.conv2 = nn.Conv2d(6, 16, 5)\n",
        "    self.fc1 = nn.Linear(16 * 5 * 5, 120)\n",
        "    self.fc2 = nn.Linear(120, 84)\n",
        "    self.fc3 = nn.Linear(84, 10)\n",
        "\n",
        "  def forward(self, x):\n",
        "    x = self.pool(F.relu(self.conv1(x)))\n",
        "    x = self.pool(F.relu(self.conv2(x)))\n",
        "    x = torch.flatten(x, 1)\n",
        "    x = F.relu(self.fc1(x))\n",
        "    x = F.relu(self.fc2(x))\n",
        "    x = self.fc3(x)\n",
        "    return x"
      ],
      "metadata": {
        "id": "xQTR_-nwk5Ni"
      },
      "execution_count": null,
      "outputs": []
    },
    {
      "cell_type": "code",
      "source": [
        "torch.manual_seed(108)\n",
        "net = CIFAR10Net().to(device)\n",
        "criterion = nn.CrossEntropyLoss()\n",
        "optimizer = optim.SGD(net.parameters(), lr=0.001, momentum=0.9)"
      ],
      "metadata": {
        "id": "zKi2nKuFoIZd"
      },
      "execution_count": null,
      "outputs": []
    },
    {
      "cell_type": "code",
      "source": [
        "# Training loop\n",
        "epochs = 10\n",
        "for epoch in range(epochs):\n",
        "  running_loss = 0\n",
        "  for i, (inputs, labels) in enumerate(trainloader):\n",
        "    inputs = inputs.to(device)\n",
        "    labels = labels.to(device)\n",
        "    optimizer.zero_grad()\n",
        "    pred = net(inputs)\n",
        "    loss = criterion(pred, labels)\n",
        "    loss.backward()\n",
        "    optimizer.step()\n",
        "    running_loss += loss.item()\n",
        "    if i % 2000 == 1999:\n",
        "      print('[%d, %5d] loss: %.3f' % (epoch + 1, i + 1, running_loss / 2000))\n",
        "      running_loss = 0\n",
        "print('Finished Training')"
      ],
      "metadata": {
        "colab": {
          "base_uri": "https://localhost:8080/"
        },
        "collapsed": true,
        "id": "RKAfdom0oKug",
        "outputId": "6e2dac17-acdd-4ec3-9c1b-b4ac5f1c06aa"
      },
      "execution_count": null,
      "outputs": [
        {
          "output_type": "stream",
          "name": "stdout",
          "text": [
            "[1,  2000] loss: 2.151\n",
            "[1,  4000] loss: 1.821\n",
            "[1,  6000] loss: 1.658\n",
            "[1,  8000] loss: 1.597\n",
            "[1, 10000] loss: 1.520\n",
            "[1, 12000] loss: 1.495\n",
            "[2,  2000] loss: 1.419\n",
            "[2,  4000] loss: 1.396\n",
            "[2,  6000] loss: 1.372\n",
            "[2,  8000] loss: 1.351\n",
            "[2, 10000] loss: 1.322\n",
            "[2, 12000] loss: 1.315\n",
            "[3,  2000] loss: 1.255\n",
            "[3,  4000] loss: 1.257\n",
            "[3,  6000] loss: 1.232\n",
            "[3,  8000] loss: 1.224\n",
            "[3, 10000] loss: 1.221\n",
            "[3, 12000] loss: 1.204\n",
            "[4,  2000] loss: 1.150\n",
            "[4,  4000] loss: 1.151\n",
            "[4,  6000] loss: 1.161\n",
            "[4,  8000] loss: 1.149\n",
            "[4, 10000] loss: 1.129\n",
            "[4, 12000] loss: 1.147\n",
            "[5,  2000] loss: 1.072\n",
            "[5,  4000] loss: 1.069\n",
            "[5,  6000] loss: 1.072\n",
            "[5,  8000] loss: 1.079\n",
            "[5, 10000] loss: 1.081\n",
            "[5, 12000] loss: 1.089\n",
            "[6,  2000] loss: 1.000\n",
            "[6,  4000] loss: 1.008\n",
            "[6,  6000] loss: 1.012\n",
            "[6,  8000] loss: 1.032\n",
            "[6, 10000] loss: 1.036\n",
            "[6, 12000] loss: 1.029\n",
            "[7,  2000] loss: 0.951\n",
            "[7,  4000] loss: 0.953\n",
            "[7,  6000] loss: 0.962\n",
            "[7,  8000] loss: 0.994\n",
            "[7, 10000] loss: 1.005\n",
            "[7, 12000] loss: 0.979\n",
            "[8,  2000] loss: 0.890\n",
            "[8,  4000] loss: 0.899\n",
            "[8,  6000] loss: 0.933\n",
            "[8,  8000] loss: 0.946\n",
            "[8, 10000] loss: 0.949\n",
            "[8, 12000] loss: 0.960\n",
            "[9,  2000] loss: 0.854\n",
            "[9,  4000] loss: 0.876\n",
            "[9,  6000] loss: 0.902\n",
            "[9,  8000] loss: 0.922\n",
            "[9, 10000] loss: 0.937\n",
            "[9, 12000] loss: 0.930\n",
            "[10,  2000] loss: 0.830\n",
            "[10,  4000] loss: 0.845\n",
            "[10,  6000] loss: 0.865\n",
            "[10,  8000] loss: 0.886\n",
            "[10, 10000] loss: 0.885\n",
            "[10, 12000] loss: 0.890\n",
            "Finished Training\n"
          ]
        }
      ]
    },
    {
      "cell_type": "code",
      "source": [
        "# Predictions\n",
        "correct = 0\n",
        "with torch.no_grad():\n",
        "  for images, labels in testloader:\n",
        "    pred = net(images)\n",
        "    _, predicted = torch.max(pred.data, 1)\n",
        "    correct += (predicted == labels).sum().item()\n",
        "print(f'{correct} correct predictions out of 10000')\n",
        "print(f'Accuracy: {correct/100 :.2f} %')"
      ],
      "metadata": {
        "colab": {
          "base_uri": "https://localhost:8080/"
        },
        "id": "d-Q0AGkmpRTF",
        "outputId": "5c6af8dd-d8fa-42b0-9831-1c0b87b3301d"
      },
      "execution_count": null,
      "outputs": [
        {
          "output_type": "stream",
          "name": "stdout",
          "text": [
            "6063 correct predictions out of 10000\n",
            "Accuracy: 60.63 %\n"
          ]
        }
      ]
    },
    {
      "cell_type": "code",
      "source": [
        "correct_pred = {classname: 0 for classname in classes}\n",
        "total_pred = {classname: 0 for classname in classes}\n",
        "with torch.no_grad():\n",
        "  for images, labels in testloader:\n",
        "    pred = net(images)\n",
        "    _, predictions = torch.max(pred, 1)\n",
        "    for label, prediction in zip(labels, predictions):\n",
        "      if label == prediction:\n",
        "        correct_pred[classes[label]] += 1\n",
        "      total_pred[classes[label]] += 1\n",
        "\n",
        "for classname in correct_pred:\n",
        "  print(f'Accuracy for class: {classname:5s} is {correct_pred[classname] / total_pred[classname] * 100:.2f} %')"
      ],
      "metadata": {
        "colab": {
          "base_uri": "https://localhost:8080/"
        },
        "id": "i-3cDuShqzso",
        "outputId": "c40282ea-99cc-48cc-da4b-711edaff049a"
      },
      "execution_count": null,
      "outputs": [
        {
          "output_type": "stream",
          "name": "stdout",
          "text": [
            "Accuracy for class: plane is 60.60 %\n",
            "Accuracy for class: car   is 78.00 %\n",
            "Accuracy for class: bird  is 55.30 %\n",
            "Accuracy for class: cat   is 49.60 %\n",
            "Accuracy for class: deer  is 49.70 %\n",
            "Accuracy for class: dog   is 40.40 %\n",
            "Accuracy for class: frog  is 59.80 %\n",
            "Accuracy for class: horse is 66.50 %\n",
            "Accuracy for class: ship  is 72.90 %\n",
            "Accuracy for class: truck is 73.50 %\n"
          ]
        }
      ]
    }
  ]
}